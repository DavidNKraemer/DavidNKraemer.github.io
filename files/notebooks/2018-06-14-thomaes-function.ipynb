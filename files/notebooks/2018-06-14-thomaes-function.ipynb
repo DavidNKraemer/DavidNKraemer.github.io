{
 "cells": [
  {
   "cell_type": "code",
   "execution_count": 10,
   "metadata": {},
   "outputs": [],
   "source": [
    "from fractions import Fraction as Rat\n",
    "import matplotlib.pyplot as plt\n",
    "import numpy as np\n",
    "import seaborn as sns\n",
    "%matplotlib inline"
   ]
  },
  {
   "cell_type": "code",
   "execution_count": 11,
   "metadata": {},
   "outputs": [],
   "source": [
    "sns.set_context('paper')"
   ]
  },
  {
   "cell_type": "code",
   "execution_count": 12,
   "metadata": {},
   "outputs": [],
   "source": [
    "levels = 16\n",
    "periods = 4\n",
    "x, y = [], []\n",
    "for q in range(1,levels):\n",
    "    for p in range(1, periods * q + 1):\n",
    "        x.append(Rat(p,q))\n",
    "        y.append(Rat(1,x[-1].denominator))\n",
    "\n",
    "x, y = np.array(x), np.array(y)\n",
    "x, indices = np.unique(x, return_index=True)\n",
    "y = y[indices]"
   ]
  },
  {
   "cell_type": "code",
   "execution_count": 17,
   "metadata": {},
   "outputs": [
    {
     "data": {
      "image/png": "[encoded data removed]",
      "text/plain": [
       "<matplotlib.figure.Figure at 0x7f95a06ba208>"
      ]
     },
     "metadata": {},
     "output_type": "display_data"
    }
   ],
   "source": [
    "level_set = 0.27\n",
    "ls_color = '#0000ff'\n",
    "fig, ax = plt.subplots(1,1, figsize=(10,6))\n",
    "ax.scatter(x[:-1],y[:-1], marker='.', color='#000000')\n",
    "ax.plot([0,periods], [level_set] * 2, linestyle=':', color=ls_color)\n",
    "ax.text(-0.4*level_set,0.95*level_set, '$\\lambda$', color=ls_color, fontsize=12)\n",
    "ax.set_xlabel('$x$',fontsize=12)\n",
    "ax.set_ylabel('$f(x)$', fontsize=12)\n",
    "ax.set_title(\"Thomae's function\", fontsize=12)\n",
    "sns.despine(fig=fig)\n",
    "fig.savefig('2018-06-14-thomaes-function.png',bbox_inches='tight')"
   ]
  },
  {
   "cell_type": "code",
   "execution_count": null,
   "metadata": {},
   "outputs": [],
   "source": []
  }
 ],
 "metadata": {
  "kernelspec": {
   "display_name": "Python 3",
   "language": "python",
   "name": "python3"
  },
  "language_info": {
   "codemirror_mode": {
    "name": "ipython",
    "version": 3
   },
   "file_extension": ".py",
   "mimetype": "text/x-python",
   "name": "python",
   "nbconvert_exporter": "python",
   "pygments_lexer": "ipython3",
   "version": "3.6.3"
  }
 },
 "nbformat": 4,
 "nbformat_minor": 2
}
